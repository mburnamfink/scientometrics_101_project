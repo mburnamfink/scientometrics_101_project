{
 "cells": [
  {
   "cell_type": "markdown",
   "metadata": {},
   "source": [
    "This program allows you to experiment with diversity measures.  Diversity is a measure of how a set of things are apportioned over a set of categories. Each function defined below takes a dictionary where the keys are lowercase letters and the values are integrers. The Rao-Stirling distance measure is equal to the distance between letters, so a-b is 1/26, and a-z is 1.  'True' Rao-Stirling uses a distance matrix between each pair of categories, but this one-dimensional example is easier to explain.\n",
    "\n",
    "Measures from Stirling. 2007. _A general framework for analysing diversity in science, technology and society_. https://www.ncbi.nlm.nih.gov/pmc/articles/PMC2373389/\n",
    "DivC is a new measure from Leydesdorff et al. 2018. _Interdisciplinarity as Diversity in Citation Patterns among Journals: Rao-Stirling Diversity, Relative Variety, and the Gini coefficient_. https://arxiv.org/abs/1807.04115"
   ]
  },
  {
   "cell_type": "code",
   "execution_count": 43,
   "metadata": {},
   "outputs": [],
   "source": [
    "import math\n",
    "import string\n",
    "import pandas as pd\n",
    "\n",
    "i = 0\n",
    "distance_measure= {}\n",
    "while i < len(string.ascii_lowercase):\n",
    "    i =i + 1\n",
    "    distance_measure[string.ascii_lowercase[i-1]]=i\n",
    "\n",
    "\n",
    "def distance(a,b) :\n",
    "    return math.fabs(distance_measure[a]-distance_measure[b])/26"
   ]
  },
  {
   "cell_type": "code",
   "execution_count": 23,
   "metadata": {},
   "outputs": [],
   "source": [
    "#Diversity functions\n",
    "#All calculates all four functions and displays the results of each to 7 digits\n",
    "\n",
    "def PropCount(sample):\n",
    "    return len(sample)/26\n",
    "\n",
    "def Gini(sample):\n",
    "    total = 0\n",
    "    for sc in sample :\n",
    "        total = total + sample[sc]\n",
    "    gini = 1\n",
    "    for sc in sample:\n",
    "        gini = gini - (sample[sc] / total) * (sample[sc] / total)\n",
    "    return gini\n",
    "\n",
    "def ShannonH (sample):\n",
    "    total = 0\n",
    "    for sc in sample :\n",
    "        total = total + sample[sc]\n",
    "    ShannonH = 0\n",
    "    for sc in sample :\n",
    "        ShannonH = ShannonH - (sample[sc]/total)*math.log(sample[sc]/total)\n",
    "    return ShannonH\n",
    "\n",
    "def RaoStirling(sample):\n",
    "    samplelist=list(sample)\n",
    "    total = 0\n",
    "    for sc in sample :\n",
    "        total = total + sample[sc]\n",
    "    SDI = 0\n",
    "    i = 0\n",
    "    j = 1\n",
    "    while i < len(samplelist) :\n",
    "        j = i + 1\n",
    "        while j < len(samplelist) :\n",
    "            WCi = samplelist[i]\n",
    "            WCj = samplelist[j]\n",
    "            invdistance = distance(WCi, WCj)\n",
    "            SDI = SDI + invdistance*(sample[WCi]/total)*(sample[WCj]/total)\n",
    "            j =j +1\n",
    "        i =i + 1\n",
    "    return SDI\n",
    "        \n",
    "def DivC(sample):\n",
    "    samplelist=list(sample)\n",
    "    total = 0\n",
    "    for sc in sample :\n",
    "        total = total + sample[sc]\n",
    "    DivC = 0\n",
    "    i = 0\n",
    "    j = 1\n",
    "    while i < len(samplelist) :\n",
    "        j = i + 1\n",
    "        while j < len(samplelist) :\n",
    "            WCi = samplelist[i]\n",
    "            WCj = samplelist[j]\n",
    "            invdistance = distance(WCi, WCj)\n",
    "            DivC = DivC + invdistance/(len(samplelist)*(len(samplelist)-1))\n",
    "            j =j +1\n",
    "        i =i + 1\n",
    "    gini = 1\n",
    "    for sc in sample:\n",
    "        gini = gini - (sample[sc] / total) * (sample[sc] / total)\n",
    "    DivC = len(samplelist)/26*gini*DivC\n",
    "    return DivC\n",
    "\n",
    "def All(sample):\n",
    "    gini = Gini(sample)\n",
    "    SH = ShannonH(sample)\n",
    "    SDI = RaoStirling(sample)\n",
    "    divc = DivC(sample)\n",
    "    return [round(gini,7), round(SH,7), round(SDI,7), round(divc,7)]"
   ]
  },
  {
   "cell_type": "code",
   "execution_count": 24,
   "metadata": {},
   "outputs": [],
   "source": [
    "#example dictionaries to use\n",
    "\n",
    "one = {'a':5,'b':5}\n",
    "two = {'a':5,'z':5}\n",
    "three = {'a':1,'b':1,'c':1,'d':1,'e':1,'f':1,'g':1,'h':1,'i':1,'j':1,'a':1}\n",
    "interdisciplinary = {'e':5,'g':2,'f':2,'a':1}\n",
    "monodisciplinary = {'e':9,'d':1,'f':1}\n",
    "dualdisciplinary = {'d':4,'h':4, 'g':1,'m':1}\n",
    "examplea = {'a':100,'b':1}\n",
    "exampleb = {'d':56,'h':10, 'g':3,'m':1}\n",
    "examplec = {'k':20,'t':12,'n':20, 'l':7,'m':3, 'c':1, 'p':1,'q':1,'e':5}"
   ]
  },
  {
   "cell_type": "code",
   "execution_count": 22,
   "metadata": {},
   "outputs": [
    {
     "name": "stdout",
     "output_type": "stream",
     "text": [
      "{'a': 5, 'b': 5} \n",
      " [0.5, 0.6931472, 0.0096154, 0.0007396] \n",
      "\n",
      "{'a': 1, 'b': 1, 'c': 1, 'd': 1, 'e': 1, 'f': 1, 'g': 1, 'h': 1, 'i': 1, 'j': 1} \n",
      " [0.9, 2.3025851, 0.0634615, 0.0244083]\n"
     ]
    }
   ],
   "source": [
    "print(one, '\\n', All(one),'\\n')\n",
    "print(three, '\\n', All(three))"
   ]
  },
  {
   "cell_type": "code",
   "execution_count": 44,
   "metadata": {},
   "outputs": [
    {
     "data": {
      "image/png": "[encoded data removed]",
      "text/plain": [
       "<Figure size 432x288 with 1 Axes>"
      ]
     },
     "metadata": {},
     "output_type": "display_data"
    }
   ],
   "source": [
    "#how Gini, Rao-Stirling and DivC change as we add categories, one at a time.\n",
    "\n",
    "raostirlings = []\n",
    "divcs = []\n",
    "ginis = []\n",
    "alphabet = {}\n",
    "\n",
    "for letter in string.ascii_lowercase:\n",
    "    alphabet[letter]=1\n",
    "    raostirlings.append(RaoStirling(alphabet))\n",
    "    divcs.append(DivC(alphabet))\n",
    "    ginis.append(Gini(alphabet))\n",
    "\n",
    "import matplotlib.pyplot as plt\n",
    "%matplotlib inline\n",
    "\n",
    "plt.plot(raostirlings, label='Rao-Stirling')\n",
    "plt.plot(divcs, label='DivC')\n",
    "plt.plot(ginis, label = 'Gini')\n",
    "plt.legend()\n",
    "plt.show()"
   ]
  },
  {
   "cell_type": "code",
   "execution_count": 45,
   "metadata": {},
   "outputs": [
    {
     "data": {
      "image/png": "[encoded data removed]",
      "text/plain": [
       "<Figure size 432x288 with 1 Axes>"
      ]
     },
     "metadata": {},
     "output_type": "display_data"
    }
   ],
   "source": [
    "plt.plot(raostirlings, label='Rao-Stirling')\n",
    "plt.plot(divcs, label='DivC')\n",
    "plt.legend()\n",
    "plt.show()"
   ]
  },
  {
   "cell_type": "code",
   "execution_count": null,
   "metadata": {},
   "outputs": [],
   "source": []
  }
 ],
 "metadata": {
  "kernelspec": {
   "display_name": "Python 3",
   "language": "python",
   "name": "python3"
  },
  "language_info": {
   "codemirror_mode": {
    "name": "ipython",
    "version": 3
   },
   "file_extension": ".py",
   "mimetype": "text/x-python",
   "name": "python",
   "nbconvert_exporter": "python",
   "pygments_lexer": "ipython3",
   "version": "3.6.5"
  }
 },
 "nbformat": 4,
 "nbformat_minor": 2
}
